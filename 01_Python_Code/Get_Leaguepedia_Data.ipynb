{
 "cells": [
  {
   "cell_type": "code",
   "execution_count": null,
   "metadata": {},
   "outputs": [],
   "source": [
    "from mwrogue.esports_client import EsportsClient\n",
    "site = EsportsClient(\"lol\")\n",
    "\n",
    "response = site.cargo_client.query(\n",
    "    tables=\"ScoreboardGames=SG, Tournaments=T\",\n",
    "    join_on=\"SG.OverviewPage=T.OverviewPage\",\n",
    "    fields=\"T.Name, SG.DateTime_UTC, SG.Team1, SG.Team2\",\n",
    "    where=\"SG.DateTime_UTC >= '2019-08-01 00:00:00'\",  # Results after Aug 1, 2019\n",
    "    limit=50\n",
    ")"
   ]
  },
  {
   "cell_type": "code",
   "execution_count": null,
   "metadata": {},
   "outputs": [],
   "source": []
  },
  {
   "cell_type": "code",
   "execution_count": null,
   "metadata": {},
   "outputs": [],
   "source": [
    "import pandas as pd\n",
    "import numpy as np"
   ]
  },
  {
   "cell_type": "markdown",
   "metadata": {},
   "source": [
    "# Player.csv\n",
    "\n",
    "- obtains DOB"
   ]
  },
  {
   "cell_type": "code",
   "execution_count": null,
   "metadata": {},
   "outputs": [],
   "source": [
    "player = site.cargo_client.query(\n",
    "    tables = \"Players=P, PlayerRedirects = PR\",\n",
    "    join_on = \"P.OverviewPage = PR.OverviewPage\",\n",
    "    fields = \"P.ID, P.Age, P.Birthdate, P.Name, PR.AllName\"\n",
    ")\n",
    "\n",
    "df = pd.DataFrame(player)\n",
    "     \n",
    "# saving the dataframe\n",
    "df.to_csv('./../Data/Leaguepedia/player.csv')"
   ]
  },
  {
   "cell_type": "code",
   "execution_count": null,
   "metadata": {},
   "outputs": [],
   "source": []
  },
  {
   "cell_type": "markdown",
   "metadata": {},
   "source": [
    "# Tournament_rosters.csv\n",
    "\n",
    "- obtains "
   ]
  },
  {
   "cell_type": "code",
   "execution_count": null,
   "metadata": {},
   "outputs": [],
   "source": [
    "tourney = site.cargo_client.query(\n",
    "    tables = \"TournamentRosters = TR\",\n",
    "    fields = \"TR.Team, TR.RosterLinks, TR.Tournament\"\n",
    ")\n",
    "\n",
    "df = pd.DataFrame(tourney)\n",
    "     \n",
    "# saving the dataframe\n",
    "df.to_csv('./../Data/Leaguepedia/tournament_rosters.csv')"
   ]
  },
  {
   "cell_type": "code",
   "execution_count": null,
   "metadata": {},
   "outputs": [],
   "source": [
    "tourney = site.cargo_client.query(\n",
    "    tables = \"Tournaments = T\",\n",
    "    fields = \"T.DateStart, T.League, T.Name, T.StandardName, T.Split, T.SplitNumber\"\n",
    ")\n",
    "\n",
    "df = pd.DataFrame(tourney)\n",
    "     \n",
    "# saving the dataframe\n",
    "df.to_csv('./../Data/Leaguepedia/tournaments.csv')"
   ]
  },
  {
   "cell_type": "code",
   "execution_count": null,
   "metadata": {},
   "outputs": [],
   "source": [
    "TP = site.cargo_client.query(\n",
    "    tables = \"TournamentPlayers = TP\",\n",
    "    fields = \"TP.Team, TP.Player, TP.OverviewPage, TP.PageAndTeam, TP.N_PlayerInTeam, TP.TeamOrder, TP.Role, TP.IsDistribution\",\n",
    "    where = \"OverviewPage LIKE '%LCS%'\"\n",
    ")\n",
    "df = pd.DataFrame(TP)\n",
    "\n",
    "\n",
    "# saving the dataframe\n",
    "df.to_csv('./../Data/Leaguepedia/tournament_players_LCS.csv')"
   ]
  },
  {
   "cell_type": "code",
   "execution_count": null,
   "metadata": {},
   "outputs": [],
   "source": [
    "TP_LEC = site.cargo_client.query(\n",
    "    tables = \"TournamentPlayers = TP\",\n",
    "    fields = \"TP.Team, TP.Player, TP.OverviewPage, TP.PageAndTeam, TP.N_PlayerInTeam, TP.TeamOrder, TP.Role, TP.IsDistribution\",\n",
    "    where = \"OverviewPage LIKE '%LEC%'\"\n",
    ")\n",
    "df = pd.DataFrame(TP_LEC)\n",
    "     \n",
    "# saving the dataframe\n",
    "df.to_csv('./../Data/Leaguepedia/tournament_players_LEC.csv')\n",
    "\n",
    "TP_LCK = site.cargo_client.query(\n",
    "    tables = \"TournamentPlayers = TP\",\n",
    "    fields = \"TP.Team, TP.Player, TP.OverviewPage, TP.PageAndTeam, TP.N_PlayerInTeam, TP.TeamOrder, TP.Role, TP.IsDistribution\",\n",
    "    where = \"OverviewPage LIKE '%LCK%'\"\n",
    ")\n",
    "df = pd.DataFrame(TP_LCK)\n",
    "     \n",
    "# saving the dataframe\n",
    "df.to_csv('./../Data/Leaguepedia/tournament_players_LCK.csv')\n",
    "\n",
    "TP_LPL = site.cargo_client.query(\n",
    "    tables = \"TournamentPlayers = TP\",\n",
    "    fields = \"TP.Team, TP.Player, TP.OverviewPage, TP.PageAndTeam, TP.N_PlayerInTeam, TP.TeamOrder, TP.Role, TP.IsDistribution\",\n",
    "    where = \"OverviewPage LIKE '%LPL%'\"\n",
    ")\n",
    "df = pd.DataFrame(TP_LPL)\n",
    "     \n",
    "# saving the dataframe\n",
    "df.to_csv('./../Data/Leaguepedia/tournament_players_LPL.csv')"
   ]
  },
  {
   "cell_type": "code",
   "execution_count": null,
   "metadata": {},
   "outputs": [],
   "source": [
    "TP_champs = site.cargo_client.query(\n",
    "    tables = \"TournamentPlayers = TP\",\n",
    "    fields = \"TP.Team, TP.Player, TP.OverviewPage, TP.PageAndTeam, TP.N_PlayerInTeam, TP.TeamOrder, TP.Role, TP.IsDistribution\",\n",
    "    where = \"OverviewPage LIKE '%Champions%'\"\n",
    ")\n",
    "df = pd.DataFrame(TP_champs)\n",
    "     \n",
    "# saving the dataframe\n",
    "df.to_csv('./../Data/Leaguepedia/tournament_players_Champions.csv')"
   ]
  },
  {
   "cell_type": "markdown",
   "metadata": {},
   "source": [
    "## Player stats"
   ]
  },
  {
   "cell_type": "code",
   "execution_count": null,
   "metadata": {},
   "outputs": [],
   "source": [
    "Scoreboard_Players = site.cargo_client.query(\n",
    "    tables = \"ScoreboardPlayers = SP\",\n",
    "    fields = \"SP.Name, SP.Kills, SP.Deaths, SP.Assists, SP.Team\",\n",
    "     # SP.PlayerWin, SP.GameID, SP.MatchID\"\n",
    "    where = \"Name LIKE '%def%'\"\n",
    ")\n",
    "df = pd.DataFrame(Scoreboard_Players)\n",
    "     \n",
    "# saving the dataframe\n",
    "df.to_csv('./../Data/Leaguepedia/Scoreboard_Players.csv')"
   ]
  }
 ],
 "metadata": {
  "kernelspec": {
   "display_name": "Julia 1.8.5",
   "language": "julia",
   "name": "julia-1.8"
  },
  "language_info": {
   "file_extension": ".jl",
   "mimetype": "application/julia",
   "name": "julia",
   "version": "1.8.5"
  }
 },
 "nbformat": 4,
 "nbformat_minor": 4
}
