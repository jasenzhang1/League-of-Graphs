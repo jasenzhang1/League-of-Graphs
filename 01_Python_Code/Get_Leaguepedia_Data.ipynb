{
 "cells": [
  {
   "cell_type": "code",
   "execution_count": 1,
   "metadata": {},
   "outputs": [],
   "source": [
    "from mwrogue.esports_client import EsportsClient\n",
    "site = EsportsClient(\"lol\")\n",
    "\n",
    "response = site.cargo_client.query(\n",
    "    tables=\"ScoreboardGames=SG, Tournaments=T\",\n",
    "    join_on=\"SG.OverviewPage=T.OverviewPage\",\n",
    "    fields=\"T.Name, SG.DateTime_UTC, SG.Team1, SG.Team2\",\n",
    "    where=\"SG.DateTime_UTC >= '2019-08-01 00:00:00'\",  # Results after Aug 1, 2019\n",
    "    limit=50\n",
    ")"
   ]
  },
  {
   "cell_type": "code",
   "execution_count": null,
   "metadata": {},
   "outputs": [],
   "source": []
  },
  {
   "cell_type": "code",
   "execution_count": 3,
   "metadata": {},
   "outputs": [],
   "source": [
    "import pandas as pd\n",
    "import numpy as np"
   ]
  },
  {
   "cell_type": "markdown",
   "metadata": {},
   "source": [
    "# 1. Player.csv\n",
    "\n",
    "- obtains DOB"
   ]
  },
  {
   "cell_type": "code",
   "execution_count": null,
   "metadata": {},
   "outputs": [],
   "source": [
    "player = site.cargo_client.query(\n",
    "    tables = \"Players=P, PlayerRedirects = PR\",\n",
    "    join_on = \"P.OverviewPage = PR.OverviewPage\",\n",
    "    fields = \"P.ID, P.Age, P.Birthdate, P.Name, PR.AllName\"\n",
    ")\n",
    "\n",
    "df = pd.DataFrame(player)\n",
    "     \n",
    "# saving the dataframe\n",
    "df.to_csv('./../Data/Leaguepedia/player.csv')"
   ]
  },
  {
   "cell_type": "code",
   "execution_count": null,
   "metadata": {},
   "outputs": [],
   "source": []
  },
  {
   "cell_type": "markdown",
   "metadata": {},
   "source": [
    "# 2. Tournament_rosters.csv\n",
    "\n",
    "- obtains "
   ]
  },
  {
   "cell_type": "code",
   "execution_count": null,
   "metadata": {},
   "outputs": [],
   "source": [
    "tourney = site.cargo_client.query(\n",
    "    tables = \"TournamentRosters = TR\",\n",
    "    fields = \"TR.Team, TR.RosterLinks, TR.Tournament\"\n",
    ")\n",
    "\n",
    "df = pd.DataFrame(tourney)\n",
    "     \n",
    "# saving the dataframe\n",
    "df.to_csv('./../Data/Leaguepedia/tournament_rosters.csv')"
   ]
  },
  {
   "cell_type": "code",
   "execution_count": null,
   "metadata": {},
   "outputs": [],
   "source": [
    "tourney = site.cargo_client.query(\n",
    "    tables = \"Tournaments = T\",\n",
    "    fields = \"T.DateStart, T.League, T.Name, T.StandardName, T.Split, T.SplitNumber\"\n",
    ")\n",
    "\n",
    "df = pd.DataFrame(tourney)\n",
    "     \n",
    "# saving the dataframe\n",
    "df.to_csv('./../Data/Leaguepedia/tournaments.csv')"
   ]
  },
  {
   "cell_type": "markdown",
   "metadata": {},
   "source": [
    "# 3. TournamentPlayers\n",
    "\n",
    "    - Query 'LCS', 'LEC', 'LCK', 'LPL' 'Champions'"
   ]
  },
  {
   "cell_type": "code",
   "execution_count": null,
   "metadata": {},
   "outputs": [],
   "source": [
    "TP = site.cargo_client.query(\n",
    "    tables = \"TournamentPlayers = TP\",\n",
    "    fields = \"TP.Team, TP.Player, TP.OverviewPage, TP.PageAndTeam, TP.N_PlayerInTeam, TP.TeamOrder, TP.Role, TP.IsDistribution\",\n",
    "    where = \"OverviewPage LIKE '%LCS%'\"\n",
    ")\n",
    "df = pd.DataFrame(TP)\n",
    "\n",
    "\n",
    "# saving the dataframe\n",
    "df.to_csv('./../Data/Leaguepedia/tournament_players_LCS.csv')"
   ]
  },
  {
   "cell_type": "code",
   "execution_count": null,
   "metadata": {},
   "outputs": [],
   "source": [
    "TP_LEC = site.cargo_client.query(\n",
    "    tables = \"TournamentPlayers = TP\",\n",
    "    fields = \"TP.Team, TP.Player, TP.OverviewPage, TP.PageAndTeam, TP.N_PlayerInTeam, TP.TeamOrder, TP.Role, TP.IsDistribution\",\n",
    "    where = \"OverviewPage LIKE '%LEC%'\"\n",
    ")\n",
    "df = pd.DataFrame(TP_LEC)\n",
    "     \n",
    "# saving the dataframe\n",
    "df.to_csv('./../Data/Leaguepedia/tournament_players_LEC.csv')\n",
    "\n",
    "TP_LCK = site.cargo_client.query(\n",
    "    tables = \"TournamentPlayers = TP\",\n",
    "    fields = \"TP.Team, TP.Player, TP.OverviewPage, TP.PageAndTeam, TP.N_PlayerInTeam, TP.TeamOrder, TP.Role, TP.IsDistribution\",\n",
    "    where = \"OverviewPage LIKE '%LCK%'\"\n",
    ")\n",
    "df = pd.DataFrame(TP_LCK)\n",
    "     \n",
    "# saving the dataframe\n",
    "df.to_csv('./../Data/Leaguepedia/tournament_players_LCK.csv')\n",
    "\n",
    "TP_LPL = site.cargo_client.query(\n",
    "    tables = \"TournamentPlayers = TP\",\n",
    "    fields = \"TP.Team, TP.Player, TP.OverviewPage, TP.PageAndTeam, TP.N_PlayerInTeam, TP.TeamOrder, TP.Role, TP.IsDistribution\",\n",
    "    where = \"OverviewPage LIKE '%LPL%'\"\n",
    ")\n",
    "df = pd.DataFrame(TP_LPL)\n",
    "     \n",
    "# saving the dataframe\n",
    "df.to_csv('./../Data/Leaguepedia/tournament_players_LPL.csv')"
   ]
  },
  {
   "cell_type": "code",
   "execution_count": null,
   "metadata": {},
   "outputs": [],
   "source": [
    "TP_champs = site.cargo_client.query(\n",
    "    tables = \"TournamentPlayers = TP\",\n",
    "    fields = \"TP.Team, TP.Player, TP.OverviewPage, TP.PageAndTeam, TP.N_PlayerInTeam, TP.TeamOrder, TP.Role, TP.IsDistribution\",\n",
    "    where = \"OverviewPage LIKE '%Champions%'\"\n",
    ")\n",
    "df = pd.DataFrame(TP_champs)\n",
    "     \n",
    "# saving the dataframe\n",
    "df.to_csv('./../Data/Leaguepedia/tournament_players_Champions.csv')"
   ]
  },
  {
   "cell_type": "markdown",
   "metadata": {},
   "source": [
    "## 4. Player stats\n",
    "\n",
    "### From LCK"
   ]
  },
  {
   "cell_type": "code",
   "execution_count": 79,
   "metadata": {},
   "outputs": [],
   "source": [
    "Scoreboard_Players = site.cargo_client.query(\n",
    "    tables = \"ScoreboardPlayers = SP\",\n",
    "    fields = \"SP.Name, SP.PlayerWin, SP.Kills, SP.Deaths, SP.Assists, SP.Team, SP.OverviewPage\",\n",
    "     # SP.PlayerWin, SP.GameID, SP.MatchID\"\n",
    "    where = \"OverviewPage LIKE '%LCK/%' and OverviewPage NOT LIKE '%Promotion%'\"\n",
    ")\n",
    "df = pd.DataFrame(Scoreboard_Players)\n",
    "     \n",
    "# saving the dataframe\n",
    "df.to_csv('./../Data/Leaguepedia/Scoreboard_Players_LCK.csv')"
   ]
  },
  {
   "cell_type": "code",
   "execution_count": 80,
   "metadata": {},
   "outputs": [],
   "source": [
    "Scoreboard_Players = site.cargo_client.query(\n",
    "    tables = \"ScoreboardPlayers = SP\",\n",
    "    fields = \"SP.Name, SP.PlayerWin, SP.Kills, SP.Deaths, SP.Assists, SP.Team, SP.OverviewPage\",\n",
    "     # SP.PlayerWin, SP.GameID, SP.MatchID\"\n",
    "    where = \"OverviewPage LIKE '%Champions/%' and OverviewPage NOT LIKE '%Promotion%' and OverviewPage NOT LIKE '%Qual%' and OverviewPage NOT LIKE '%Forge%' and OverviewPage NOT LIKE '%Preseason%'\"\n",
    ")\n",
    "df = pd.DataFrame(Scoreboard_Players)\n",
    "\n",
    "df.to_csv('./../Data/Leaguepedia/Scoreboard_Players_Champions.csv')"
   ]
  },
  {
   "cell_type": "markdown",
   "metadata": {},
   "source": [
    "## LPL"
   ]
  },
  {
   "cell_type": "code",
   "execution_count": 85,
   "metadata": {},
   "outputs": [],
   "source": [
    "Scoreboard_Players = site.cargo_client.query(\n",
    "    tables = \"ScoreboardPlayers = SP\",\n",
    "    fields = \"SP.Name, SP.PlayerWin, SP.Kills, SP.Deaths, SP.Assists, SP.Team, SP.OverviewPage\",\n",
    "     # SP.PlayerWin, SP.GameID, SP.MatchID\"\n",
    "    where = \"OverviewPage LIKE '%LPL/%' and OverviewPage NOT LIKE '%Promotion%'\"\n",
    ")\n",
    "df = pd.DataFrame(Scoreboard_Players)\n",
    "     \n",
    "# saving the dataframe\n",
    "df.to_csv('./../Data/Leaguepedia/Scoreboard_Players_LPL.csv')"
   ]
  },
  {
   "cell_type": "markdown",
   "metadata": {},
   "source": [
    "## LCS"
   ]
  },
  {
   "cell_type": "code",
   "execution_count": 94,
   "metadata": {},
   "outputs": [],
   "source": [
    "Scoreboard_Players = site.cargo_client.query(\n",
    "    tables = \"ScoreboardPlayers = SP\",\n",
    "    fields = \"SP.Name, SP.PlayerWin, SP.Kills, SP.Deaths, SP.Assists, SP.Team, SP.OverviewPage\",\n",
    "     # SP.PlayerWin, SP.GameID, SP.MatchID\"\n",
    "    where = \"OverviewPage LIKE '%LCS%' and OverviewPage NOT LIKE '%Promotion%' and OverviewPage NOT LIKE '%EU LCS%' and OverviewPage NOT LIKE '%Proving%'\"\n",
    ")\n",
    "df = pd.DataFrame(Scoreboard_Players)\n",
    "     \n",
    "# saving the dataframe\n",
    "df.to_csv('./../Data/Leaguepedia/Scoreboard_Players_LCS.csv')"
   ]
  },
  {
   "cell_type": "code",
   "execution_count": 98,
   "metadata": {},
   "outputs": [],
   "source": [
    "df.to_csv('./../Data/Leaguepedia/Scoreboard_Players_LCS.csv')"
   ]
  },
  {
   "cell_type": "markdown",
   "metadata": {},
   "source": [
    "## LEC"
   ]
  },
  {
   "cell_type": "code",
   "execution_count": 99,
   "metadata": {},
   "outputs": [],
   "source": [
    "Scoreboard_Players = site.cargo_client.query(\n",
    "    tables = \"ScoreboardPlayers = SP\",\n",
    "    fields = \"SP.Name, SP.PlayerWin, SP.Kills, SP.Deaths, SP.Assists, SP.Team, SP.OverviewPage\",\n",
    "     # SP.PlayerWin, SP.GameID, SP.MatchID\"\n",
    "    where = \"OverviewPage LIKE '%EU LCS%' and OverviewPage NOT LIKE '%Promotion%'\"\n",
    ")\n",
    "df = pd.DataFrame(Scoreboard_Players)\n"
   ]
  },
  {
   "cell_type": "code",
   "execution_count": 105,
   "metadata": {},
   "outputs": [],
   "source": [
    "Scoreboard_Players = site.cargo_client.query(\n",
    "    tables = \"ScoreboardPlayers = SP\",\n",
    "    fields = \"SP.Name, SP.PlayerWin, SP.Kills, SP.Deaths, SP.Assists, SP.Team, SP.OverviewPage\",\n",
    "     # SP.PlayerWin, SP.GameID, SP.MatchID\"\n",
    "    where = \"OverviewPage LIKE '%LEC/%'\"\n",
    ")\n",
    "df2 = pd.DataFrame(Scoreboard_Players)"
   ]
  },
  {
   "cell_type": "code",
   "execution_count": 111,
   "metadata": {},
   "outputs": [],
   "source": [
    "df_lec = pd.concat([df, df2])\n",
    "df_lec.to_csv('./../Data/Leaguepedia/Scoreboard_Players_LEC.csv')"
   ]
  },
  {
   "cell_type": "markdown",
   "metadata": {},
   "source": [
    "## International Events"
   ]
  },
  {
   "cell_type": "code",
   "execution_count": 31,
   "metadata": {},
   "outputs": [],
   "source": [
    "Scoreboard_Players = site.cargo_client.query(\n",
    "    tables = \"ScoreboardPlayers = SP\",\n",
    "    fields = \"SP.Name, SP.PlayerWin, SP.Kills, SP.Deaths, SP.Assists, SP.Team, SP.OverviewPage\",\n",
    "     # SP.PlayerWin, SP.GameID, SP.MatchID\"\n",
    "    where = \"(OverviewPage LIKE '%World%' or OverviewPage LIKE '%Mid-Season Invitational%') and OverviewPage NOT LIKE '%Cyber%' and OverviewPage NOT LIKE '%IEM Season%' and OverviewPage NOT LIKE '%GIRLGAMER%'\"\n",
    ")\n",
    "df = pd.DataFrame(Scoreboard_Players)\n",
    "\n",
    "df.to_csv('./../Data/Leaguepedia/Scoreboard_Players_International.csv')"
   ]
  },
  {
   "cell_type": "code",
   "execution_count": 35,
   "metadata": {},
   "outputs": [],
   "source": []
  },
  {
   "cell_type": "code",
   "execution_count": 32,
   "metadata": {},
   "outputs": [
    {
     "data": {
      "text/plain": [
       "(17170, 7)"
      ]
     },
     "execution_count": 32,
     "metadata": {},
     "output_type": "execute_result"
    }
   ],
   "source": [
    "np.shape(df)"
   ]
  },
  {
   "cell_type": "code",
   "execution_count": 33,
   "metadata": {},
   "outputs": [
    {
     "data": {
      "text/html": [
       "<div>\n",
       "<style scoped>\n",
       "    .dataframe tbody tr th:only-of-type {\n",
       "        vertical-align: middle;\n",
       "    }\n",
       "\n",
       "    .dataframe tbody tr th {\n",
       "        vertical-align: top;\n",
       "    }\n",
       "\n",
       "    .dataframe thead th {\n",
       "        text-align: right;\n",
       "    }\n",
       "</style>\n",
       "<table border=\"1\" class=\"dataframe\">\n",
       "  <thead>\n",
       "    <tr style=\"text-align: right;\">\n",
       "      <th></th>\n",
       "      <th>Name</th>\n",
       "      <th>PlayerWin</th>\n",
       "      <th>Kills</th>\n",
       "      <th>Deaths</th>\n",
       "      <th>Assists</th>\n",
       "      <th>Team</th>\n",
       "      <th>OverviewPage</th>\n",
       "    </tr>\n",
       "  </thead>\n",
       "  <tbody>\n",
       "    <tr>\n",
       "      <th>0</th>\n",
       "      <td>007x</td>\n",
       "      <td>No</td>\n",
       "      <td>0</td>\n",
       "      <td>3</td>\n",
       "      <td>1</td>\n",
       "      <td>Bangkok Titans</td>\n",
       "      <td>2015 Season World Championship</td>\n",
       "    </tr>\n",
       "    <tr>\n",
       "      <th>1</th>\n",
       "      <td>007x</td>\n",
       "      <td>No</td>\n",
       "      <td>0</td>\n",
       "      <td>4</td>\n",
       "      <td>4</td>\n",
       "      <td>Bangkok Titans</td>\n",
       "      <td>2015 Season World Championship</td>\n",
       "    </tr>\n",
       "    <tr>\n",
       "      <th>2</th>\n",
       "      <td>007x</td>\n",
       "      <td>No</td>\n",
       "      <td>0</td>\n",
       "      <td>6</td>\n",
       "      <td>5</td>\n",
       "      <td>Bangkok Titans</td>\n",
       "      <td>2015 Season World Championship</td>\n",
       "    </tr>\n",
       "    <tr>\n",
       "      <th>3</th>\n",
       "      <td>007x</td>\n",
       "      <td>No</td>\n",
       "      <td>2</td>\n",
       "      <td>3</td>\n",
       "      <td>2</td>\n",
       "      <td>Bangkok Titans</td>\n",
       "      <td>2015 Season World Championship</td>\n",
       "    </tr>\n",
       "    <tr>\n",
       "      <th>4</th>\n",
       "      <td>007x</td>\n",
       "      <td>No</td>\n",
       "      <td>2</td>\n",
       "      <td>5</td>\n",
       "      <td>5</td>\n",
       "      <td>Bangkok Titans</td>\n",
       "      <td>2015 Season World Championship</td>\n",
       "    </tr>\n",
       "    <tr>\n",
       "      <th>5</th>\n",
       "      <td>007x</td>\n",
       "      <td>No</td>\n",
       "      <td>4</td>\n",
       "      <td>4</td>\n",
       "      <td>7</td>\n",
       "      <td>Bangkok Titans</td>\n",
       "      <td>2015 Season World Championship</td>\n",
       "    </tr>\n",
       "    <tr>\n",
       "      <th>6</th>\n",
       "      <td>0N</td>\n",
       "      <td>Yes</td>\n",
       "      <td>0</td>\n",
       "      <td>2</td>\n",
       "      <td>17</td>\n",
       "      <td>Bilibili Gaming</td>\n",
       "      <td>2023 Season World Championship/Main Event</td>\n",
       "    </tr>\n",
       "    <tr>\n",
       "      <th>7</th>\n",
       "      <td>369</td>\n",
       "      <td>No</td>\n",
       "      <td>0</td>\n",
       "      <td>3</td>\n",
       "      <td>2</td>\n",
       "      <td>JD Gaming</td>\n",
       "      <td>2023 Season World Championship/Main Event</td>\n",
       "    </tr>\n",
       "    <tr>\n",
       "      <th>8</th>\n",
       "      <td>369</td>\n",
       "      <td>No</td>\n",
       "      <td>0</td>\n",
       "      <td>3</td>\n",
       "      <td>3</td>\n",
       "      <td>Top Esports</td>\n",
       "      <td>2020 Season World Championship/Main Event</td>\n",
       "    </tr>\n",
       "    <tr>\n",
       "      <th>9</th>\n",
       "      <td>369</td>\n",
       "      <td>No</td>\n",
       "      <td>0</td>\n",
       "      <td>3</td>\n",
       "      <td>3</td>\n",
       "      <td>Top Esports</td>\n",
       "      <td>2020 Season World Championship/Main Event</td>\n",
       "    </tr>\n",
       "  </tbody>\n",
       "</table>\n",
       "</div>"
      ],
      "text/plain": [
       "   Name PlayerWin Kills Deaths Assists             Team  \\\n",
       "0  007x        No     0      3       1   Bangkok Titans   \n",
       "1  007x        No     0      4       4   Bangkok Titans   \n",
       "2  007x        No     0      6       5   Bangkok Titans   \n",
       "3  007x        No     2      3       2   Bangkok Titans   \n",
       "4  007x        No     2      5       5   Bangkok Titans   \n",
       "5  007x        No     4      4       7   Bangkok Titans   \n",
       "6    0N       Yes     0      2      17  Bilibili Gaming   \n",
       "7   369        No     0      3       2        JD Gaming   \n",
       "8   369        No     0      3       3      Top Esports   \n",
       "9   369        No     0      3       3      Top Esports   \n",
       "\n",
       "                                OverviewPage  \n",
       "0             2015 Season World Championship  \n",
       "1             2015 Season World Championship  \n",
       "2             2015 Season World Championship  \n",
       "3             2015 Season World Championship  \n",
       "4             2015 Season World Championship  \n",
       "5             2015 Season World Championship  \n",
       "6  2023 Season World Championship/Main Event  \n",
       "7  2023 Season World Championship/Main Event  \n",
       "8  2020 Season World Championship/Main Event  \n",
       "9  2020 Season World Championship/Main Event  "
      ]
     },
     "execution_count": 33,
     "metadata": {},
     "output_type": "execute_result"
    }
   ],
   "source": [
    "df.head(10)"
   ]
  },
  {
   "cell_type": "code",
   "execution_count": 34,
   "metadata": {},
   "outputs": [
    {
     "data": {
      "text/plain": [
       "array(['2014 Season World Championship', '2015 Mid-Season Invitational',\n",
       "       '2015 Season World Championship', '2016 Mid-Season Invitational',\n",
       "       '2016 Season World Championship',\n",
       "       '2017 Mid-Season Invitational/Main Event',\n",
       "       '2017 Mid-Season Invitational/Play-In',\n",
       "       '2017 Season World Championship/Main Event',\n",
       "       '2017 Season World Championship/Play-In',\n",
       "       '2018 Mid-Season Invitational/Main Event',\n",
       "       '2018 Mid-Season Invitational/Play-In',\n",
       "       '2018 Season World Championship/Main Event',\n",
       "       '2018 Season World Championship/Play-In',\n",
       "       '2019 Mid-Season Invitational/Main Event',\n",
       "       '2019 Mid-Season Invitational/Play-In',\n",
       "       '2019 Season World Championship/Main Event',\n",
       "       '2019 Season World Championship/Play-In',\n",
       "       '2020 Season World Championship/Main Event',\n",
       "       '2020 Season World Championship/Play-In',\n",
       "       '2021 Mid-Season Invitational',\n",
       "       '2021 Season World Championship/Main Event',\n",
       "       '2021 Season World Championship/Play-In',\n",
       "       '2022 Mid-Season Invitational',\n",
       "       '2022 Season World Championship/Main Event',\n",
       "       '2022 Season World Championship/Play-In',\n",
       "       '2023 Mid-Season Invitational',\n",
       "       '2023 Season World Championship/Main Event',\n",
       "       '2023 Season World Championship/Play-In',\n",
       "       '2023 Worlds Qualifying Series', 'Season 1 World Championship',\n",
       "       'Season 2 World Championship', 'Season 3 World Championship'],\n",
       "      dtype=object)"
      ]
     },
     "execution_count": 34,
     "metadata": {},
     "output_type": "execute_result"
    }
   ],
   "source": [
    "np.unique(df['OverviewPage'])"
   ]
  }
 ],
 "metadata": {
  "kernelspec": {
   "display_name": "Julia 1.8.5",
   "language": "julia",
   "name": "julia-1.8"
  },
  "language_info": {
   "codemirror_mode": {
    "name": "ipython",
    "version": 3
   },
   "file_extension": ".py",
   "mimetype": "text/x-python",
   "name": "python",
   "nbconvert_exporter": "python",
   "pygments_lexer": "ipython3",
   "version": "3.10.11"
  }
 },
 "nbformat": 4,
 "nbformat_minor": 4
}
